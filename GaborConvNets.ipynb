{
 "cells": [
  {
   "cell_type": "code",
   "execution_count": 1,
   "id": "86597946",
   "metadata": {},
   "outputs": [
    {
     "name": "stdout",
     "output_type": "stream",
     "text": [
      "WARNING:tensorflow:From C:\\Users\\91898\\anaconda3\\Lib\\site-packages\\keras\\src\\losses.py:2976: The name tf.losses.sparse_softmax_cross_entropy is deprecated. Please use tf.compat.v1.losses.sparse_softmax_cross_entropy instead.\n",
      "\n",
      "WARNING:tensorflow:From C:\\Users\\91898\\anaconda3\\Lib\\site-packages\\keras\\src\\backend.py:1398: The name tf.executing_eagerly_outside_functions is deprecated. Please use tf.compat.v1.executing_eagerly_outside_functions instead.\n",
      "\n",
      "WARNING:tensorflow:From C:\\Users\\91898\\anaconda3\\Lib\\site-packages\\keras\\src\\layers\\pooling\\max_pooling2d.py:161: The name tf.nn.max_pool is deprecated. Please use tf.nn.max_pool2d instead.\n",
      "\n",
      "WARNING:tensorflow:From C:\\Users\\91898\\anaconda3\\Lib\\site-packages\\keras\\src\\optimizers\\__init__.py:309: The name tf.train.Optimizer is deprecated. Please use tf.compat.v1.train.Optimizer instead.\n",
      "\n",
      "Epoch 1/5\n",
      "WARNING:tensorflow:From C:\\Users\\91898\\anaconda3\\Lib\\site-packages\\keras\\src\\utils\\tf_utils.py:492: The name tf.ragged.RaggedTensorValue is deprecated. Please use tf.compat.v1.ragged.RaggedTensorValue instead.\n",
      "\n",
      "WARNING:tensorflow:From C:\\Users\\91898\\anaconda3\\Lib\\site-packages\\keras\\src\\engine\\base_layer_utils.py:384: The name tf.executing_eagerly_outside_functions is deprecated. Please use tf.compat.v1.executing_eagerly_outside_functions instead.\n",
      "\n",
      "1875/1875 [==============================] - 54s 28ms/step - loss: 0.1323 - accuracy: 0.9592 - val_loss: 0.0571 - val_accuracy: 0.9816\n",
      "Epoch 2/5\n",
      "1875/1875 [==============================] - 49s 26ms/step - loss: 0.0429 - accuracy: 0.9865 - val_loss: 0.0456 - val_accuracy: 0.9849\n",
      "Epoch 3/5\n",
      "1875/1875 [==============================] - 48s 25ms/step - loss: 0.0277 - accuracy: 0.9914 - val_loss: 0.0380 - val_accuracy: 0.9873\n",
      "Epoch 4/5\n",
      "1875/1875 [==============================] - 54s 29ms/step - loss: 0.0187 - accuracy: 0.9939 - val_loss: 0.0397 - val_accuracy: 0.9879\n",
      "Epoch 5/5\n",
      "1875/1875 [==============================] - 49s 26ms/step - loss: 0.0128 - accuracy: 0.9958 - val_loss: 0.0424 - val_accuracy: 0.9877\n",
      "313/313 [==============================] - 1s 4ms/step - loss: 0.0424 - accuracy: 0.9877\n",
      "Test accuracy: 0.9876999855041504\n"
     ]
    }
   ],
   "source": [
    "import tensorflow as tf\n",
    "from tensorflow.keras.layers import Layer, Conv2D, Input, Flatten, Dense\n",
    "from tensorflow.keras.datasets import mnist\n",
    "from tensorflow.keras.utils import to_categorical\n",
    "import numpy as np\n",
    "import cv2 \n",
    "\n",
    "\n",
    "(x_train, y_train), (x_test, y_test) = mnist.load_data()\n",
    "x_train = x_train.astype('float32') / 255.0\n",
    "\n",
    "x_test = x_test.astype('float32') / 255.0\n",
    "x_train = np.expand_dims(x_train, axis=-1)\n",
    "x_test = np.expand_dims(x_test, axis=-1)\n",
    "y_train = to_categorical(y_train, 10)\n",
    "y_test = to_categorical(y_test, 10)\n",
    "\n",
    "# Define the Gabor layer\n",
    "class GaborLayer(Layer):\n",
    "    def __init__(self, filters, kernel_size, sigma=1.0, theta=0.0, **kwargs):\n",
    "        super(GaborLayer, self).__init__(**kwargs)\n",
    "        self.filters = filters\n",
    "        self.kernel_size = kernel_size\n",
    "        self.sigma = sigma\n",
    "        self.theta = theta\n",
    "\n",
    "    def build(self, input_shape):\n",
    "        self.gabor_filter = self.add_weight(\"gabor_filter\",\n",
    "                                            shape=(self.kernel_size[0], self.kernel_size[1], input_shape[-1], self.filters),\n",
    "                                            initializer='random_normal',\n",
    "                                            trainable=False)\n",
    "        super(GaborLayer, self).build(input_shape)\n",
    "\n",
    "    def call(self, x):\n",
    "        '''Apply the Gabor filters'''\n",
    "        result = tf.nn.conv2d(x, self.gabor_filter, strides=[1, 1, 1, 1], padding='SAME')\n",
    "        return result\n",
    "\n",
    "# Build a Gabor Convolutional Neural Network\n",
    "input_shape = (28, 28, 1)  # MNIST image shape\n",
    "num_classes = 10\n",
    "\n",
    "model = tf.keras.Sequential([\n",
    "    Input(shape=input_shape),\n",
    "    GaborLayer(filters=32, kernel_size=(3, 3)),\n",
    "    tf.keras.layers.Activation('relu'),\n",
    "    Conv2D(filters=64, kernel_size=(3, 3), activation='relu'),\n",
    "    tf.keras.layers.MaxPooling2D(pool_size=(2, 2)),\n",
    "    Flatten(),\n",
    "    Dense(units=128, activation='relu'),\n",
    "    Dense(units=num_classes, activation='softmax')\n",
    "])\n",
    "\n",
    "# Compile the model\n",
    "model.compile(optimizer='adam', loss='categorical_crossentropy', metrics=['accuracy'])\n",
    "\n",
    "# Train the model\n",
    "model.fit(x_train, y_train, epochs=5, batch_size=32, validation_data=(x_test, y_test))\n",
    "\n",
    "# Evaluate the model on the test set\n",
    "test_loss, test_acc = model.evaluate(x_test, y_test)\n",
    "print(f'Test accuracy: {test_acc}')\n"
   ]
  },
  {
   "cell_type": "code",
   "execution_count": 2,
   "id": "a53fc802",
   "metadata": {},
   "outputs": [
    {
     "name": "stdout",
     "output_type": "stream",
     "text": [
      "313/313 [==============================] - 2s 5ms/step\n",
      "Sample 1: Predicted class: 7, True class: 7\n",
      "Sample 2: Predicted class: 2, True class: 2\n",
      "Sample 3: Predicted class: 1, True class: 1\n",
      "Sample 4: Predicted class: 0, True class: 0\n",
      "Sample 5: Predicted class: 4, True class: 4\n"
     ]
    }
   ],
   "source": [
  
    "# Make predictions on the test set\n",
    "predictions = model.predict(x_test)\n",
    "\n",
    "# Get the index with the maximum probability as the predicted class\n",
    "predicted_classes = np.argmax(predictions, axis=1)\n",
    "\n",
    "# Display a few sample predictions\n",
    "for i in range(5):\n",
    "    print(f\"Sample {i + 1}: Predicted class: {predicted_classes[i]}, True class: {np.argmax(y_test[i])}\")\n"
   ]
  },
  {
   "cell_type": "code",
   "execution_count": 12,
   "id": "dc24cde9",
   "metadata": {},
   "outputs": [
    {
     "name": "stdout",
     "output_type": "stream",
     "text": [
      "313/313 [==============================] - 2s 6ms/step\n"
     ]
    },
    {
     "data": {
      "image/png": "[encoded data removed]",
      "text/plain": [
       "<Figure size 640x480 with 5 Axes>"
      ]
     },
     "metadata": {},
     "output_type": "display_data"
    }
   ],
   "source": [
    "import matplotlib.pyplot as plt\n",
    "\n",
    "# Make predictions on the test set\n",
    "predictions = model.predict(x_test)\n",
    "\n",
    "# Display a few sample predictions with images\n",
    "num_samples_to_display = 5\n",
    "\n",
    "for j in range(5):\n",
    "    # Get the predicted and true class labels\n",
    "    i = np.random.randint(len(predictions))\n",
    "    predicted_class = np.argmax(predictions[i])\n",
    "    true_class = np.argmax(y_test[i])\n",
    "\n",
    "    # Display the image\n",
    "    plt.subplot(1, num_samples_to_display, j + 1)\n",
    "    plt.imshow(x_test[i].reshape(28, 28), cmap='gray')\n",
    "    plt.title(f\"Predicted: {predicted_class}\\nTrue: {true_class}\")\n",
    "    plt.axis('off')\n",
    "\n",
    "plt.show()"
   ]
  },
  {
   "cell_type": "code",
   "execution_count": 13,
   "id": "377422b8",
   "metadata": {},
   "outputs": [
    {
     "name": "stdout",
     "output_type": "stream",
     "text": [
      "Epoch 1/5\n",
      "1875/1875 [==============================] - 45s 24ms/step - loss: 0.1380 - accuracy: 0.9585 - val_loss: 0.0592 - val_accuracy: 0.9800\n",
      "Epoch 2/5\n",
      "1875/1875 [==============================] - 44s 23ms/step - loss: 0.0469 - accuracy: 0.9861 - val_loss: 0.0480 - val_accuracy: 0.9845\n",
      "Epoch 3/5\n",
      "1875/1875 [==============================] - 42s 23ms/step - loss: 0.0295 - accuracy: 0.9905 - val_loss: 0.0414 - val_accuracy: 0.9855\n",
      "Epoch 4/5\n",
      "1875/1875 [==============================] - 41s 22ms/step - loss: 0.0182 - accuracy: 0.9944 - val_loss: 0.0410 - val_accuracy: 0.9865\n",
      "Epoch 5/5\n",
      "1875/1875 [==============================] - 42s 23ms/step - loss: 0.0138 - accuracy: 0.9955 - val_loss: 0.0414 - val_accuracy: 0.9879\n",
      "313/313 [==============================] - 2s 7ms/step - loss: 0.0424 - accuracy: 0.9877\n",
      "Test accuracy: 0.9876999855041504\n"
     ]
    }
   ],
   "source": [
    "import tensorflow as tf\n",
    "from tensorflow.keras.layers import Layer, Conv2D, Input, Flatten, Dense\n",
    "from tensorflow.keras.datasets import mnist\n",
    "from tensorflow.keras.utils import to_categorical\n",
    "import numpy as np\n",
    "import cv2 \n",
    "\n",
    "# Load and preprocess the MNIST dataset\n",
    "(x_train, y_train), (x_test, y_test) = mnist.load_data()\n",
    "x_train = x_train.astype('float32') / 255.0\n",
    "\n",
    "x_test = x_test.astype('float32') / 255.0\n",
    "x_train = np.expand_dims(x_train, axis=-1)\n",
    "x_test = np.expand_dims(x_test, axis=-1)\n",
    "y_train = to_categorical(y_train, 10)\n",
    "y_test = to_categorical(y_test, 10)\n",
    "\n",
    "# Define the Gabor layer\n",
    "class GaborLayer(Layer):\n",
    "    def __init__(self, filters, kernel_size, sigma=1.0, theta=0.0, **kwargs):\n",
    "        super(GaborLayer, self).__init__(**kwargs)\n",
    "        self.filters = filters\n",
    "        self.kernel_size = kernel_size\n",
    "        self.sigma = sigma\n",
    "        self.theta = theta\n",
    "\n",
    "    def build(self, input_shape):\n",
    "        self.gabor_filter = self.add_weight(\"gabor_filter\",\n",
    "                                            shape=(self.kernel_size[0], self.kernel_size[1], input_shape[-1], self.filters),\n",
    "                                            initializer='random_normal',\n",
    "                                            trainable=False)\n",
    "        super(GaborLayer, self).build(input_shape)\n",
    "\n",
    "    def call(self, x):\n",
    "        '''Apply the Gabor filters'''\n",
    "        result = tf.nn.conv2d(x, self.gabor_filter, strides=[1, 1, 1, 1], padding='SAME')\n",
    "        return result\n",
    "\n",
    "# Build a Gabor Convolutional Neural Network\n",
    "input_shape = (28, 28, 1)  # MNIST image shape\n",
    "num_classes = 10\n",
    "\n",
    "cnn_model = tf.keras.Sequential([\n",
    "    Input(shape=input_shape),\n",
    "    tf.keras.layers.Activation('relu'),\n",
    "    Conv2D(filters=64, kernel_size=(3, 3), activation='relu'),\n",
    "    tf.keras.layers.MaxPooling2D(pool_size=(2, 2)),\n",
    "    Flatten(),\n",
    "    Dense(units=128, activation='relu'),\n",
    "    Dense(units=num_classes, activation='softmax')\n",
    "])\n",
    "\n",
    "# Compile the model\n",
    "cnn_model.compile(optimizer='adam', loss='categorical_crossentropy', metrics=['accuracy'])\n",
    "\n",
    "# Train the model\n",
    "cnn_model.fit(x_train, y_train, epochs=5, batch_size=32, validation_data=(x_test, y_test))\n",
    "\n",
    "# Evaluate the model on the test set\n",
    "test_loss, test_acc = model.evaluate(x_test, y_test)\n",
    "print(f'Test accuracy: {test_acc}')\n"
   ]
  },
  {
   "cell_type": "code",
   "execution_count": 14,
   "id": "4c3054c2",
   "metadata": {},
   "outputs": [
    {
     "name": "stdout",
     "output_type": "stream",
     "text": [
      "Epoch 1/5\n",
      "1875/1875 [==============================] - 15s 8ms/step - loss: 0.2076 - accuracy: 0.9399 - val_loss: 0.1153 - val_accuracy: 0.9649\n",
      "Epoch 2/5\n",
      "1875/1875 [==============================] - 14s 8ms/step - loss: 0.0847 - accuracy: 0.9745 - val_loss: 0.0858 - val_accuracy: 0.9734\n",
      "Epoch 3/5\n",
      "1875/1875 [==============================] - 16s 8ms/step - loss: 0.0589 - accuracy: 0.9821 - val_loss: 0.0598 - val_accuracy: 0.9806\n",
      "Epoch 4/5\n",
      "1875/1875 [==============================] - 16s 9ms/step - loss: 0.0493 - accuracy: 0.9850 - val_loss: 0.0563 - val_accuracy: 0.9815\n",
      "Epoch 5/5\n",
      "1875/1875 [==============================] - 15s 8ms/step - loss: 0.0378 - accuracy: 0.9882 - val_loss: 0.0661 - val_accuracy: 0.9801\n",
      "313/313 [==============================] - 2s 5ms/step - loss: 0.0424 - accuracy: 0.9877\n",
      "Test accuracy: 0.9876999855041504\n"
     ]
    }
   ],
   "source": [
    "import tensorflow as tf\n",
    "from tensorflow.keras.layers import Layer, Conv2D, Input, Flatten, Dense\n",
    "from tensorflow.keras.datasets import mnist\n",
    "from tensorflow.keras.utils import to_categorical\n",
    "import numpy as np\n",
    "import cv2 \n",
    "\n",
    "# Load and preprocess the MNIST dataset\n",
    "(x_train, y_train), (x_test, y_test) = mnist.load_data()\n",
    "x_train = x_train.astype('float32') / 255.0\n",
    "\n",
    "x_test = x_test.astype('float32') / 255.0\n",
    "x_train = np.expand_dims(x_train, axis=-1)\n",
    "x_test = np.expand_dims(x_test, axis=-1)\n",
    "y_train = to_categorical(y_train, 10)\n",
    "y_test = to_categorical(y_test, 10)\n",
    "\n",
    "# Define the Gabor layer\n",
    "class GaborLayer(Layer):\n",
    "    def __init__(self, filters, kernel_size, sigma=1.0, theta=0.0, **kwargs):\n",
    "        super(GaborLayer, self).__init__(**kwargs)\n",
    "        self.filters = filters\n",
    "        self.kernel_size = kernel_size\n",
    "        self.sigma = sigma\n",
    "        self.theta = theta\n",
    "\n",
    "    def build(self, input_shape):\n",
    "        self.gabor_filter = self.add_weight(\"gabor_filter\",\n",
    "                                            shape=(self.kernel_size[0], self.kernel_size[1], input_shape[-1], self.filters),\n",
    "                                            initializer='random_normal',\n",
    "                                            trainable=False)\n",
    "        super(GaborLayer, self).build(input_shape)\n",
    "\n",
    "    def call(self, x):\n",
    "        '''Apply the Gabor filters'''\n",
    "        result = tf.nn.conv2d(x, self.gabor_filter, strides=[1, 1, 1, 1], padding='SAME')\n",
    "        return result\n",
    "\n",
    "# Build a Gabor Convolutional Neural Network\n",
    "input_shape = (28, 28, 1)  # MNIST image shape\n",
    "num_classes = 10\n",
    "\n",
    "gabor_model = tf.keras.Sequential([\n",
    "    Input(shape=input_shape),\n",
    "    GaborLayer(filters=32, kernel_size=(5,5)),\n",
    "    tf.keras.layers.Activation('relu'),\n",
    "    #Conv2D(filters=64, kernel_size=(3, 3), activation='relu'),\n",
    "    tf.keras.layers.MaxPooling2D(pool_size=(2, 2)),\n",
    "    Flatten(),\n",
    "    Dense(units=128, activation='relu'),\n",
    "    Dense(units=num_classes, activation='softmax')\n",
    "])\n",
    "\n",
    "# Compile the model\n",
    "gabor_model.compile(optimizer='adam', loss='categorical_crossentropy', metrics=['accuracy'])\n",
    "\n",
    "# Train the model\n",
    "gabor_model.fit(x_train, y_train, epochs=5, batch_size=32, validation_data=(x_test, y_test))\n",
    "\n",
    "# Evaluate the model on the test set\n",
    "test_loss, test_acc = model.evaluate(x_test, y_test)\n",
    "print(f'Test accuracy: {test_acc}')\n"
   ]
  },
  {
   "cell_type": "code",
   "execution_count": null,
   "id": "0de6bcfd",
   "metadata": {},
   "outputs": [],
   "source": [
    "custom_img = np.squeeze(custom_img)\n",
    "custom_img.shape"
   ]
  },
  {
   "cell_type": "code",
   "execution_count": 19,
   "id": "c837c680",
   "metadata": {},
   "outputs": [
    {
     "name": "stdout",
     "output_type": "stream",
     "text": [
      "313/313 [==============================] - 1s 2ms/step\n"
     ]
    },
    {
     "data": {
      "image/png": "[encoded data removed]",
      "text/plain": [
       "<Figure size 640x480 with 5 Axes>"
      ]
     },
     "metadata": {},
     "output_type": "display_data"
    }
   ],
   "source": [
    "import matplotlib.pyplot as plt\n",
    "\n",
    "# Make predictions on the test set\n",
    "predictions = gabor_model.predict(x_test)\n",
    "\n",
    "# Display a few sample predictions with images\n",
    "num_samples_to_display = 5\n",
    "\n",
    "for j in range(5):\n",
    "    # Get the predicted and true class labels\n",
    "    i = np.random.randint(len(predictions))\n",
    "    predicted_class = np.argmax(predictions[i])\n",
    "    true_class = np.argmax(y_test[i])\n",
    "\n",
    "    # Display the image\n",
    "    plt.subplot(1, num_samples_to_display, j + 1)\n",
    "    plt.imshow(x_test[i].reshape(28, 28), cmap='gray')\n",
    "    plt.title(f\"Predicted: {predicted_class}\\nTrue: {true_class}\")\n",
    "    plt.axis('off') \n",
    "plt.show()"
   ]
  },
  {
   "cell_type": "code",
   "execution_count": 20,
   "id": "f6088d07",
   "metadata": {},
   "outputs": [],
   "source": [
    "img = plt.imread(r\"C:\\Users\\91898\\Documents\\Screenshot 2024-03-11 160042.png\")"
   ]
  },
  {
   "cell_type": "code",
   "execution_count": 26,
   "id": "25916bc1",
   "metadata": {},
   "outputs": [],
   "source": [
    "img = cv2.cvtColor(img, cv2.COLOR_BGR2GRAY)"
   ]
  },
  {
   "cell_type": "code",
   "execution_count": 38,
   "id": "d4063bc6",
   "metadata": {},
   "outputs": [],
   "source": [
    "img = (np.resize(img,(128,128)))"
   ]
  },
  {
   "cell_type": "code",
   "execution_count": null,
   "id": "8b99da73",
   "metadata": {},
   "outputs": [],
   "source": [
    "pred = gabor_model.predict(img)"
   ]
  },
  {
   "cell_type": "code",
   "execution_count": null,
   "id": "fd837c66",
   "metadata": {},
   "outputs": [],
   "source": []
  }
 ],
 "metadata": {
  "kernelspec": {
   "display_name": "Python 3 (ipykernel)",
   "language": "python",
   "name": "python3"
  },
  "language_info": {
   "codemirror_mode": {
    "name": "ipython",
    "version": 3
   },
   "file_extension": ".py",
   "mimetype": "text/x-python",
   "name": "python",
   "nbconvert_exporter": "python",
   "pygments_lexer": "ipython3",
   "version": "3.11.5"
  }
 },
 "nbformat": 4,
 "nbformat_minor": 5
}
